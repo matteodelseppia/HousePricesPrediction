{
 "cells": [
  {
   "cell_type": "code",
   "execution_count": 1,
   "id": "456e747b",
   "metadata": {},
   "outputs": [],
   "source": [
    "import numpy as np\n",
    "import pandas as pd\n",
    "import matplotlib.pyplot as plt\n",
    "import seaborn as sns"
   ]
  },
  {
   "cell_type": "code",
   "execution_count": 2,
   "id": "2ffd0d41",
   "metadata": {},
   "outputs": [],
   "source": [
    "# Roadmap:\n",
    "# 1. Create polynomial features\n",
    "# 2. Build elastic net and find best tuning with gridsearch\n",
    "# 4. evaluate with cross-validation\n",
    "# 5. train final model and evaluate final RMSE\n",
    "# 6. predict house prices of the provided test set"
   ]
  },
  {
   "cell_type": "code",
   "execution_count": 3,
   "id": "bc51b2a7",
   "metadata": {},
   "outputs": [],
   "source": [
    "df = pd.read_csv('data/training_set_without_outliers.csv')\n",
    "df_test = pd.read_csv('data/preprocessed_test_set.csv')"
   ]
  },
  {
   "cell_type": "code",
   "execution_count": 4,
   "id": "59316704",
   "metadata": {},
   "outputs": [],
   "source": [
    "# train test split for polynomial and linear features\n",
    "from sklearn.model_selection import train_test_split\n",
    "\n",
    "X = df.drop(['SalePrice'], axis=1)\n",
    "y = df['SalePrice']\n",
    "\n",
    "X_train, X_test, y_train, y_test = train_test_split(X, y, test_size=0.2, random_state=42)"
   ]
  },
  {
   "cell_type": "code",
   "execution_count": 5,
   "id": "159acb2c",
   "metadata": {},
   "outputs": [],
   "source": [
    "# standardization\n",
    "\n",
    "from sklearn.preprocessing import StandardScaler\n",
    "\n",
    "scaler = StandardScaler()\n",
    "scaler.fit(X_train)\n",
    "X_train = scaler.transform(X_train)\n",
    "X_test = scaler.transform(X_test)"
   ]
  },
  {
   "cell_type": "code",
   "execution_count": 6,
   "id": "f4354f37",
   "metadata": {},
   "outputs": [
    {
     "data": {
      "text/plain": [
       "{'alpha': [0.1,\n",
       "  1.1090909090909091,\n",
       "  2.118181818181818,\n",
       "  3.1272727272727274,\n",
       "  4.136363636363636,\n",
       "  5.145454545454545,\n",
       "  6.154545454545454,\n",
       "  7.163636363636363,\n",
       "  8.172727272727272,\n",
       "  9.181818181818182,\n",
       "  10.19090909090909,\n",
       "  11.2,\n",
       "  12.209090909090909,\n",
       "  13.218181818181817,\n",
       "  14.227272727272727,\n",
       "  15.236363636363635,\n",
       "  16.245454545454546,\n",
       "  17.254545454545454,\n",
       "  18.263636363636365,\n",
       "  19.272727272727273,\n",
       "  20.28181818181818,\n",
       "  21.290909090909093,\n",
       "  22.3,\n",
       "  23.30909090909091,\n",
       "  24.31818181818182,\n",
       "  25.327272727272728,\n",
       "  26.336363636363636,\n",
       "  27.345454545454544,\n",
       "  28.354545454545455,\n",
       "  29.363636363636363,\n",
       "  30.37272727272727,\n",
       "  31.381818181818183,\n",
       "  32.39090909090909,\n",
       "  33.4,\n",
       "  34.40909090909091,\n",
       "  35.418181818181814,\n",
       "  36.42727272727273,\n",
       "  37.43636363636364,\n",
       "  38.445454545454545,\n",
       "  39.45454545454545,\n",
       "  40.46363636363636,\n",
       "  41.47272727272727,\n",
       "  42.481818181818184,\n",
       "  43.49090909090909,\n",
       "  44.5,\n",
       "  45.50909090909091,\n",
       "  46.518181818181816,\n",
       "  47.527272727272724,\n",
       "  48.53636363636364,\n",
       "  49.54545454545455,\n",
       "  50.554545454545455,\n",
       "  51.56363636363636,\n",
       "  52.57272727272727,\n",
       "  53.58181818181818,\n",
       "  54.590909090909086,\n",
       "  55.6,\n",
       "  56.60909090909091,\n",
       "  57.61818181818182,\n",
       "  58.627272727272725,\n",
       "  59.63636363636363,\n",
       "  60.64545454545454,\n",
       "  61.654545454545456,\n",
       "  62.663636363636364,\n",
       "  63.67272727272727,\n",
       "  64.68181818181817,\n",
       "  65.69090909090909,\n",
       "  66.69999999999999,\n",
       "  67.7090909090909,\n",
       "  68.7181818181818,\n",
       "  69.72727272727272,\n",
       "  70.73636363636362,\n",
       "  71.74545454545454,\n",
       "  72.75454545454545,\n",
       "  73.76363636363635,\n",
       "  74.77272727272727,\n",
       "  75.78181818181817,\n",
       "  76.79090909090908,\n",
       "  77.8,\n",
       "  78.8090909090909,\n",
       "  79.81818181818181,\n",
       "  80.82727272727271,\n",
       "  81.83636363636363,\n",
       "  82.84545454545453,\n",
       "  83.85454545454544,\n",
       "  84.86363636363636,\n",
       "  85.87272727272726,\n",
       "  86.88181818181818,\n",
       "  87.89090909090908,\n",
       "  88.89999999999999,\n",
       "  89.90909090909089,\n",
       "  90.91818181818181,\n",
       "  91.92727272727272,\n",
       "  92.93636363636362,\n",
       "  93.94545454545454,\n",
       "  94.95454545454544,\n",
       "  95.96363636363635,\n",
       "  96.97272727272727,\n",
       "  97.98181818181817,\n",
       "  98.99090909090908,\n",
       "  100.0],\n",
       " 'l1_ratio': [0.01,\n",
       "  0.02010204081632653,\n",
       "  0.03020408163265306,\n",
       "  0.040306122448979596,\n",
       "  0.050408163265306116,\n",
       "  0.06051020408163264,\n",
       "  0.07061224489795918,\n",
       "  0.08071428571428571,\n",
       "  0.09081632653061224,\n",
       "  0.10091836734693876,\n",
       "  0.11102040816326529,\n",
       "  0.12112244897959183,\n",
       "  0.13122448979591836,\n",
       "  0.14132653061224487,\n",
       "  0.1514285714285714,\n",
       "  0.16153061224489795,\n",
       "  0.17163265306122447,\n",
       "  0.181734693877551,\n",
       "  0.19183673469387752,\n",
       "  0.20193877551020406,\n",
       "  0.21204081632653057,\n",
       "  0.22214285714285711,\n",
       "  0.23224489795918365,\n",
       "  0.24234693877551017,\n",
       "  0.2524489795918367,\n",
       "  0.26255102040816325,\n",
       "  0.27265306122448973,\n",
       "  0.28275510204081633,\n",
       "  0.29285714285714287,\n",
       "  0.30295918367346936,\n",
       "  0.3130612244897959,\n",
       "  0.32316326530612244,\n",
       "  0.3332653061224489,\n",
       "  0.34336734693877546,\n",
       "  0.35346938775510206,\n",
       "  0.36357142857142855,\n",
       "  0.37367346938775503,\n",
       "  0.3837755102040816,\n",
       "  0.3938775510204081,\n",
       "  0.40397959183673465,\n",
       "  0.41408163265306114,\n",
       "  0.42418367346938773,\n",
       "  0.4342857142857142,\n",
       "  0.44438775510204076,\n",
       "  0.4544897959183673,\n",
       "  0.46459183673469384,\n",
       "  0.4746938775510203,\n",
       "  0.4847959183673469,\n",
       "  0.4948979591836734,\n",
       "  0.5049999999999999,\n",
       "  0.5151020408163265,\n",
       "  0.525204081632653,\n",
       "  0.5353061224489796,\n",
       "  0.5454081632653061,\n",
       "  0.5555102040816327,\n",
       "  0.5656122448979591,\n",
       "  0.5757142857142857,\n",
       "  0.5858163265306122,\n",
       "  0.5959183673469387,\n",
       "  0.6060204081632652,\n",
       "  0.6161224489795918,\n",
       "  0.6262244897959183,\n",
       "  0.6363265306122448,\n",
       "  0.6464285714285714,\n",
       "  0.656530612244898,\n",
       "  0.6666326530612244,\n",
       "  0.6767346938775509,\n",
       "  0.6868367346938774,\n",
       "  0.6969387755102041,\n",
       "  0.7070408163265306,\n",
       "  0.7171428571428571,\n",
       "  0.7272448979591836,\n",
       "  0.73734693877551,\n",
       "  0.7474489795918366,\n",
       "  0.7575510204081632,\n",
       "  0.7676530612244897,\n",
       "  0.7777551020408162,\n",
       "  0.7878571428571428,\n",
       "  0.7979591836734693,\n",
       "  0.8080612244897958,\n",
       "  0.8181632653061223,\n",
       "  0.828265306122449,\n",
       "  0.8383673469387755,\n",
       "  0.848469387755102,\n",
       "  0.8585714285714284,\n",
       "  0.868673469387755,\n",
       "  0.8787755102040815,\n",
       "  0.8888775510204081,\n",
       "  0.8989795918367346,\n",
       "  0.9090816326530612,\n",
       "  0.9191836734693877,\n",
       "  0.9292857142857142,\n",
       "  0.9393877551020406,\n",
       "  0.9494897959183674,\n",
       "  0.9595918367346938,\n",
       "  0.9696938775510203,\n",
       "  0.9797959183673468,\n",
       "  0.9898979591836734,\n",
       "  1.0]}"
      ]
     },
     "execution_count": 6,
     "metadata": {},
     "output_type": "execute_result"
    }
   ],
   "source": [
    "from sklearn.linear_model import ElasticNet\n",
    "\n",
    "base_elastic_net_model = ElasticNet(max_iter=100000)\n",
    "\n",
    "alpha_params = (np.linspace(.1, 100, 100)).tolist()\n",
    "l1_ratio_params = (np.linspace(1, 100, 99)/100).tolist()\n",
    "\n",
    "param_grid = {'alpha': alpha_params, 'l1_ratio': l1_ratio_params}\n",
    "param_grid"
   ]
  },
  {
   "cell_type": "code",
   "execution_count": 7,
   "id": "60b4f6ce",
   "metadata": {},
   "outputs": [],
   "source": [
    "from sklearn.model_selection import RandomizedSearchCV\n",
    "\n",
    "grid_model = RandomizedSearchCV(base_elastic_net_model, param_grid, scoring='neg_mean_squared_error', n_iter=5000, n_jobs=8, cv=5, verbose=1)"
   ]
  },
  {
   "cell_type": "code",
   "execution_count": 8,
   "id": "fc3dc38f",
   "metadata": {},
   "outputs": [
    {
     "name": "stdout",
     "output_type": "stream",
     "text": [
      "Fitting 5 folds for each of 5000 candidates, totalling 25000 fits\n"
     ]
    },
    {
     "name": "stderr",
     "output_type": "stream",
     "text": [
      "/opt/homebrew/Caskroom/miniforge/base/lib/python3.9/site-packages/sklearn/linear_model/_coordinate_descent.py:648: ConvergenceWarning: Objective did not converge. You might want to increase the number of iterations, check the scale of the features or consider increasing regularisation. Duality gap: 7.874e+09, tolerance: 4.375e+08\n",
      "  model = cd_fast.enet_coordinate_descent(\n"
     ]
    },
    {
     "data": {
      "text/html": [
       "<style>#sk-container-id-1 {color: black;background-color: white;}#sk-container-id-1 pre{padding: 0;}#sk-container-id-1 div.sk-toggleable {background-color: white;}#sk-container-id-1 label.sk-toggleable__label {cursor: pointer;display: block;width: 100%;margin-bottom: 0;padding: 0.3em;box-sizing: border-box;text-align: center;}#sk-container-id-1 label.sk-toggleable__label-arrow:before {content: \"▸\";float: left;margin-right: 0.25em;color: #696969;}#sk-container-id-1 label.sk-toggleable__label-arrow:hover:before {color: black;}#sk-container-id-1 div.sk-estimator:hover label.sk-toggleable__label-arrow:before {color: black;}#sk-container-id-1 div.sk-toggleable__content {max-height: 0;max-width: 0;overflow: hidden;text-align: left;background-color: #f0f8ff;}#sk-container-id-1 div.sk-toggleable__content pre {margin: 0.2em;color: black;border-radius: 0.25em;background-color: #f0f8ff;}#sk-container-id-1 input.sk-toggleable__control:checked~div.sk-toggleable__content {max-height: 200px;max-width: 100%;overflow: auto;}#sk-container-id-1 input.sk-toggleable__control:checked~label.sk-toggleable__label-arrow:before {content: \"▾\";}#sk-container-id-1 div.sk-estimator input.sk-toggleable__control:checked~label.sk-toggleable__label {background-color: #d4ebff;}#sk-container-id-1 div.sk-label input.sk-toggleable__control:checked~label.sk-toggleable__label {background-color: #d4ebff;}#sk-container-id-1 input.sk-hidden--visually {border: 0;clip: rect(1px 1px 1px 1px);clip: rect(1px, 1px, 1px, 1px);height: 1px;margin: -1px;overflow: hidden;padding: 0;position: absolute;width: 1px;}#sk-container-id-1 div.sk-estimator {font-family: monospace;background-color: #f0f8ff;border: 1px dotted black;border-radius: 0.25em;box-sizing: border-box;margin-bottom: 0.5em;}#sk-container-id-1 div.sk-estimator:hover {background-color: #d4ebff;}#sk-container-id-1 div.sk-parallel-item::after {content: \"\";width: 100%;border-bottom: 1px solid gray;flex-grow: 1;}#sk-container-id-1 div.sk-label:hover label.sk-toggleable__label {background-color: #d4ebff;}#sk-container-id-1 div.sk-serial::before {content: \"\";position: absolute;border-left: 1px solid gray;box-sizing: border-box;top: 0;bottom: 0;left: 50%;z-index: 0;}#sk-container-id-1 div.sk-serial {display: flex;flex-direction: column;align-items: center;background-color: white;padding-right: 0.2em;padding-left: 0.2em;position: relative;}#sk-container-id-1 div.sk-item {position: relative;z-index: 1;}#sk-container-id-1 div.sk-parallel {display: flex;align-items: stretch;justify-content: center;background-color: white;position: relative;}#sk-container-id-1 div.sk-item::before, #sk-container-id-1 div.sk-parallel-item::before {content: \"\";position: absolute;border-left: 1px solid gray;box-sizing: border-box;top: 0;bottom: 0;left: 50%;z-index: -1;}#sk-container-id-1 div.sk-parallel-item {display: flex;flex-direction: column;z-index: 1;position: relative;background-color: white;}#sk-container-id-1 div.sk-parallel-item:first-child::after {align-self: flex-end;width: 50%;}#sk-container-id-1 div.sk-parallel-item:last-child::after {align-self: flex-start;width: 50%;}#sk-container-id-1 div.sk-parallel-item:only-child::after {width: 0;}#sk-container-id-1 div.sk-dashed-wrapped {border: 1px dashed gray;margin: 0 0.4em 0.5em 0.4em;box-sizing: border-box;padding-bottom: 0.4em;background-color: white;}#sk-container-id-1 div.sk-label label {font-family: monospace;font-weight: bold;display: inline-block;line-height: 1.2em;}#sk-container-id-1 div.sk-label-container {text-align: center;}#sk-container-id-1 div.sk-container {/* jupyter's `normalize.less` sets `[hidden] { display: none; }` but bootstrap.min.css set `[hidden] { display: none !important; }` so we also need the `!important` here to be able to override the default hidden behavior on the sphinx rendered scikit-learn.org. See: https://github.com/scikit-learn/scikit-learn/issues/21755 */display: inline-block !important;position: relative;}#sk-container-id-1 div.sk-text-repr-fallback {display: none;}</style><div id=\"sk-container-id-1\" class=\"sk-top-container\"><div class=\"sk-text-repr-fallback\"><pre>RandomizedSearchCV(cv=5, estimator=ElasticNet(max_iter=100000), n_iter=5000,\n",
       "                   n_jobs=8,\n",
       "                   param_distributions={&#x27;alpha&#x27;: [0.1, 1.1090909090909091,\n",
       "                                                  2.118181818181818,\n",
       "                                                  3.1272727272727274,\n",
       "                                                  4.136363636363636,\n",
       "                                                  5.145454545454545,\n",
       "                                                  6.154545454545454,\n",
       "                                                  7.163636363636363,\n",
       "                                                  8.172727272727272,\n",
       "                                                  9.181818181818182,\n",
       "                                                  10.19090909090909, 11.2,\n",
       "                                                  12.209090909090909,\n",
       "                                                  13.218181818181817,\n",
       "                                                  14.22727...\n",
       "                                                     0.1514285714285714,\n",
       "                                                     0.16153061224489795,\n",
       "                                                     0.17163265306122447,\n",
       "                                                     0.181734693877551,\n",
       "                                                     0.19183673469387752,\n",
       "                                                     0.20193877551020406,\n",
       "                                                     0.21204081632653057,\n",
       "                                                     0.22214285714285711,\n",
       "                                                     0.23224489795918365,\n",
       "                                                     0.24234693877551017,\n",
       "                                                     0.2524489795918367,\n",
       "                                                     0.26255102040816325,\n",
       "                                                     0.27265306122448973,\n",
       "                                                     0.28275510204081633,\n",
       "                                                     0.29285714285714287,\n",
       "                                                     0.30295918367346936, ...]},\n",
       "                   scoring=&#x27;neg_mean_squared_error&#x27;, verbose=1)</pre><b>In a Jupyter environment, please rerun this cell to show the HTML representation or trust the notebook. <br />On GitHub, the HTML representation is unable to render, please try loading this page with nbviewer.org.</b></div><div class=\"sk-container\" hidden><div class=\"sk-item sk-dashed-wrapped\"><div class=\"sk-label-container\"><div class=\"sk-label sk-toggleable\"><input class=\"sk-toggleable__control sk-hidden--visually\" id=\"sk-estimator-id-1\" type=\"checkbox\" ><label for=\"sk-estimator-id-1\" class=\"sk-toggleable__label sk-toggleable__label-arrow\">RandomizedSearchCV</label><div class=\"sk-toggleable__content\"><pre>RandomizedSearchCV(cv=5, estimator=ElasticNet(max_iter=100000), n_iter=5000,\n",
       "                   n_jobs=8,\n",
       "                   param_distributions={&#x27;alpha&#x27;: [0.1, 1.1090909090909091,\n",
       "                                                  2.118181818181818,\n",
       "                                                  3.1272727272727274,\n",
       "                                                  4.136363636363636,\n",
       "                                                  5.145454545454545,\n",
       "                                                  6.154545454545454,\n",
       "                                                  7.163636363636363,\n",
       "                                                  8.172727272727272,\n",
       "                                                  9.181818181818182,\n",
       "                                                  10.19090909090909, 11.2,\n",
       "                                                  12.209090909090909,\n",
       "                                                  13.218181818181817,\n",
       "                                                  14.22727...\n",
       "                                                     0.1514285714285714,\n",
       "                                                     0.16153061224489795,\n",
       "                                                     0.17163265306122447,\n",
       "                                                     0.181734693877551,\n",
       "                                                     0.19183673469387752,\n",
       "                                                     0.20193877551020406,\n",
       "                                                     0.21204081632653057,\n",
       "                                                     0.22214285714285711,\n",
       "                                                     0.23224489795918365,\n",
       "                                                     0.24234693877551017,\n",
       "                                                     0.2524489795918367,\n",
       "                                                     0.26255102040816325,\n",
       "                                                     0.27265306122448973,\n",
       "                                                     0.28275510204081633,\n",
       "                                                     0.29285714285714287,\n",
       "                                                     0.30295918367346936, ...]},\n",
       "                   scoring=&#x27;neg_mean_squared_error&#x27;, verbose=1)</pre></div></div></div><div class=\"sk-parallel\"><div class=\"sk-parallel-item\"><div class=\"sk-item\"><div class=\"sk-label-container\"><div class=\"sk-label sk-toggleable\"><input class=\"sk-toggleable__control sk-hidden--visually\" id=\"sk-estimator-id-2\" type=\"checkbox\" ><label for=\"sk-estimator-id-2\" class=\"sk-toggleable__label sk-toggleable__label-arrow\">estimator: ElasticNet</label><div class=\"sk-toggleable__content\"><pre>ElasticNet(max_iter=100000)</pre></div></div></div><div class=\"sk-serial\"><div class=\"sk-item\"><div class=\"sk-estimator sk-toggleable\"><input class=\"sk-toggleable__control sk-hidden--visually\" id=\"sk-estimator-id-3\" type=\"checkbox\" ><label for=\"sk-estimator-id-3\" class=\"sk-toggleable__label sk-toggleable__label-arrow\">ElasticNet</label><div class=\"sk-toggleable__content\"><pre>ElasticNet(max_iter=100000)</pre></div></div></div></div></div></div></div></div></div></div>"
      ],
      "text/plain": [
       "RandomizedSearchCV(cv=5, estimator=ElasticNet(max_iter=100000), n_iter=5000,\n",
       "                   n_jobs=8,\n",
       "                   param_distributions={'alpha': [0.1, 1.1090909090909091,\n",
       "                                                  2.118181818181818,\n",
       "                                                  3.1272727272727274,\n",
       "                                                  4.136363636363636,\n",
       "                                                  5.145454545454545,\n",
       "                                                  6.154545454545454,\n",
       "                                                  7.163636363636363,\n",
       "                                                  8.172727272727272,\n",
       "                                                  9.181818181818182,\n",
       "                                                  10.19090909090909, 11.2,\n",
       "                                                  12.209090909090909,\n",
       "                                                  13.218181818181817,\n",
       "                                                  14.22727...\n",
       "                                                     0.1514285714285714,\n",
       "                                                     0.16153061224489795,\n",
       "                                                     0.17163265306122447,\n",
       "                                                     0.181734693877551,\n",
       "                                                     0.19183673469387752,\n",
       "                                                     0.20193877551020406,\n",
       "                                                     0.21204081632653057,\n",
       "                                                     0.22214285714285711,\n",
       "                                                     0.23224489795918365,\n",
       "                                                     0.24234693877551017,\n",
       "                                                     0.2524489795918367,\n",
       "                                                     0.26255102040816325,\n",
       "                                                     0.27265306122448973,\n",
       "                                                     0.28275510204081633,\n",
       "                                                     0.29285714285714287,\n",
       "                                                     0.30295918367346936, ...]},\n",
       "                   scoring='neg_mean_squared_error', verbose=1)"
      ]
     },
     "execution_count": 8,
     "metadata": {},
     "output_type": "execute_result"
    }
   ],
   "source": [
    "grid_model.fit(X_train, y_train)"
   ]
  },
  {
   "cell_type": "code",
   "execution_count": 9,
   "id": "c8a18980",
   "metadata": {},
   "outputs": [],
   "source": [
    "# Explore better around best estimator parameters"
   ]
  },
  {
   "cell_type": "code",
   "execution_count": 10,
   "id": "4d5437dd",
   "metadata": {},
   "outputs": [
    {
     "data": {
      "text/plain": [
       "{'alpha': [5.0,\n",
       "  5.204081632653061,\n",
       "  5.408163265306122,\n",
       "  5.612244897959184,\n",
       "  5.816326530612245,\n",
       "  6.020408163265306,\n",
       "  6.224489795918368,\n",
       "  6.428571428571429,\n",
       "  6.63265306122449,\n",
       "  6.836734693877551,\n",
       "  7.040816326530612,\n",
       "  7.244897959183674,\n",
       "  7.448979591836735,\n",
       "  7.653061224489796,\n",
       "  7.857142857142858,\n",
       "  8.061224489795919,\n",
       "  8.26530612244898,\n",
       "  8.46938775510204,\n",
       "  8.673469387755102,\n",
       "  8.877551020408163,\n",
       "  9.081632653061224,\n",
       "  9.285714285714285,\n",
       "  9.489795918367347,\n",
       "  9.693877551020408,\n",
       "  9.89795918367347,\n",
       "  10.10204081632653,\n",
       "  10.306122448979592,\n",
       "  10.510204081632654,\n",
       "  10.714285714285715,\n",
       "  10.918367346938776,\n",
       "  11.122448979591837,\n",
       "  11.326530612244898,\n",
       "  11.53061224489796,\n",
       "  11.73469387755102,\n",
       "  11.938775510204081,\n",
       "  12.142857142857142,\n",
       "  12.346938775510203,\n",
       "  12.551020408163264,\n",
       "  12.755102040816327,\n",
       "  12.959183673469388,\n",
       "  13.16326530612245,\n",
       "  13.36734693877551,\n",
       "  13.571428571428571,\n",
       "  13.775510204081632,\n",
       "  13.979591836734695,\n",
       "  14.183673469387756,\n",
       "  14.387755102040817,\n",
       "  14.591836734693878,\n",
       "  14.795918367346939,\n",
       "  15.0],\n",
       " 'l1_ratio': [0.9,\n",
       "  0.9018367346938776,\n",
       "  0.9036734693877552,\n",
       "  0.9055102040816326,\n",
       "  0.9073469387755102,\n",
       "  0.9091836734693878,\n",
       "  0.9110204081632653,\n",
       "  0.9128571428571429,\n",
       "  0.9146938775510205,\n",
       "  0.9165306122448978,\n",
       "  0.9183673469387754,\n",
       "  0.920204081632653,\n",
       "  0.9220408163265306,\n",
       "  0.9238775510204081,\n",
       "  0.9257142857142857,\n",
       "  0.9275510204081633,\n",
       "  0.9293877551020409,\n",
       "  0.9312244897959183,\n",
       "  0.9330612244897959,\n",
       "  0.9348979591836735,\n",
       "  0.936734693877551,\n",
       "  0.9385714285714286,\n",
       "  0.9404081632653062,\n",
       "  0.9422448979591838,\n",
       "  0.9440816326530613,\n",
       "  0.9459183673469389,\n",
       "  0.9477551020408163,\n",
       "  0.9495918367346938,\n",
       "  0.9514285714285714,\n",
       "  0.953265306122449,\n",
       "  0.9551020408163265,\n",
       "  0.9569387755102041,\n",
       "  0.9587755102040816,\n",
       "  0.9606122448979592,\n",
       "  0.9624489795918367,\n",
       "  0.9642857142857143,\n",
       "  0.9661224489795919,\n",
       "  0.9679591836734694,\n",
       "  0.969795918367347,\n",
       "  0.9716326530612246,\n",
       "  0.9734693877551021,\n",
       "  0.9753061224489795,\n",
       "  0.9771428571428571,\n",
       "  0.9789795918367347,\n",
       "  0.9808163265306122,\n",
       "  0.9826530612244898,\n",
       "  0.9844897959183673,\n",
       "  0.9863265306122448,\n",
       "  0.9881632653061224,\n",
       "  0.99]}"
      ]
     },
     "execution_count": 10,
     "metadata": {},
     "output_type": "execute_result"
    }
   ],
   "source": [
    "base_elastic_net_model = ElasticNet(max_iter=100000)\n",
    "\n",
    "alpha_params = (np.linspace(5, 15, 50)).tolist()\n",
    "l1_ratio_params = (np.linspace(90, 99, 50)/100).tolist()\n",
    "\n",
    "param_grid = {'alpha': alpha_params, 'l1_ratio': l1_ratio_params}\n",
    "param_grid"
   ]
  },
  {
   "cell_type": "code",
   "execution_count": 11,
   "id": "a55639a2",
   "metadata": {},
   "outputs": [],
   "source": [
    "grid_model = RandomizedSearchCV(base_elastic_net_model, param_grid, scoring='neg_mean_squared_error', n_iter=1000, n_jobs=8, cv=10, verbose=1)"
   ]
  },
  {
   "cell_type": "code",
   "execution_count": 12,
   "id": "9265b0d3",
   "metadata": {},
   "outputs": [
    {
     "name": "stdout",
     "output_type": "stream",
     "text": [
      "Fitting 10 folds for each of 1000 candidates, totalling 10000 fits\n"
     ]
    },
    {
     "data": {
      "text/html": [
       "<style>#sk-container-id-2 {color: black;background-color: white;}#sk-container-id-2 pre{padding: 0;}#sk-container-id-2 div.sk-toggleable {background-color: white;}#sk-container-id-2 label.sk-toggleable__label {cursor: pointer;display: block;width: 100%;margin-bottom: 0;padding: 0.3em;box-sizing: border-box;text-align: center;}#sk-container-id-2 label.sk-toggleable__label-arrow:before {content: \"▸\";float: left;margin-right: 0.25em;color: #696969;}#sk-container-id-2 label.sk-toggleable__label-arrow:hover:before {color: black;}#sk-container-id-2 div.sk-estimator:hover label.sk-toggleable__label-arrow:before {color: black;}#sk-container-id-2 div.sk-toggleable__content {max-height: 0;max-width: 0;overflow: hidden;text-align: left;background-color: #f0f8ff;}#sk-container-id-2 div.sk-toggleable__content pre {margin: 0.2em;color: black;border-radius: 0.25em;background-color: #f0f8ff;}#sk-container-id-2 input.sk-toggleable__control:checked~div.sk-toggleable__content {max-height: 200px;max-width: 100%;overflow: auto;}#sk-container-id-2 input.sk-toggleable__control:checked~label.sk-toggleable__label-arrow:before {content: \"▾\";}#sk-container-id-2 div.sk-estimator input.sk-toggleable__control:checked~label.sk-toggleable__label {background-color: #d4ebff;}#sk-container-id-2 div.sk-label input.sk-toggleable__control:checked~label.sk-toggleable__label {background-color: #d4ebff;}#sk-container-id-2 input.sk-hidden--visually {border: 0;clip: rect(1px 1px 1px 1px);clip: rect(1px, 1px, 1px, 1px);height: 1px;margin: -1px;overflow: hidden;padding: 0;position: absolute;width: 1px;}#sk-container-id-2 div.sk-estimator {font-family: monospace;background-color: #f0f8ff;border: 1px dotted black;border-radius: 0.25em;box-sizing: border-box;margin-bottom: 0.5em;}#sk-container-id-2 div.sk-estimator:hover {background-color: #d4ebff;}#sk-container-id-2 div.sk-parallel-item::after {content: \"\";width: 100%;border-bottom: 1px solid gray;flex-grow: 1;}#sk-container-id-2 div.sk-label:hover label.sk-toggleable__label {background-color: #d4ebff;}#sk-container-id-2 div.sk-serial::before {content: \"\";position: absolute;border-left: 1px solid gray;box-sizing: border-box;top: 0;bottom: 0;left: 50%;z-index: 0;}#sk-container-id-2 div.sk-serial {display: flex;flex-direction: column;align-items: center;background-color: white;padding-right: 0.2em;padding-left: 0.2em;position: relative;}#sk-container-id-2 div.sk-item {position: relative;z-index: 1;}#sk-container-id-2 div.sk-parallel {display: flex;align-items: stretch;justify-content: center;background-color: white;position: relative;}#sk-container-id-2 div.sk-item::before, #sk-container-id-2 div.sk-parallel-item::before {content: \"\";position: absolute;border-left: 1px solid gray;box-sizing: border-box;top: 0;bottom: 0;left: 50%;z-index: -1;}#sk-container-id-2 div.sk-parallel-item {display: flex;flex-direction: column;z-index: 1;position: relative;background-color: white;}#sk-container-id-2 div.sk-parallel-item:first-child::after {align-self: flex-end;width: 50%;}#sk-container-id-2 div.sk-parallel-item:last-child::after {align-self: flex-start;width: 50%;}#sk-container-id-2 div.sk-parallel-item:only-child::after {width: 0;}#sk-container-id-2 div.sk-dashed-wrapped {border: 1px dashed gray;margin: 0 0.4em 0.5em 0.4em;box-sizing: border-box;padding-bottom: 0.4em;background-color: white;}#sk-container-id-2 div.sk-label label {font-family: monospace;font-weight: bold;display: inline-block;line-height: 1.2em;}#sk-container-id-2 div.sk-label-container {text-align: center;}#sk-container-id-2 div.sk-container {/* jupyter's `normalize.less` sets `[hidden] { display: none; }` but bootstrap.min.css set `[hidden] { display: none !important; }` so we also need the `!important` here to be able to override the default hidden behavior on the sphinx rendered scikit-learn.org. See: https://github.com/scikit-learn/scikit-learn/issues/21755 */display: inline-block !important;position: relative;}#sk-container-id-2 div.sk-text-repr-fallback {display: none;}</style><div id=\"sk-container-id-2\" class=\"sk-top-container\"><div class=\"sk-text-repr-fallback\"><pre>RandomizedSearchCV(cv=10, estimator=ElasticNet(max_iter=100000), n_iter=1000,\n",
       "                   n_jobs=8,\n",
       "                   param_distributions={&#x27;alpha&#x27;: [5.0, 5.204081632653061,\n",
       "                                                  5.408163265306122,\n",
       "                                                  5.612244897959184,\n",
       "                                                  5.816326530612245,\n",
       "                                                  6.020408163265306,\n",
       "                                                  6.224489795918368,\n",
       "                                                  6.428571428571429,\n",
       "                                                  6.63265306122449,\n",
       "                                                  6.836734693877551,\n",
       "                                                  7.040816326530612,\n",
       "                                                  7.244897959183674,\n",
       "                                                  7.448979591836735,\n",
       "                                                  7.653061224489796...\n",
       "                                                     0.9257142857142857,\n",
       "                                                     0.9275510204081633,\n",
       "                                                     0.9293877551020409,\n",
       "                                                     0.9312244897959183,\n",
       "                                                     0.9330612244897959,\n",
       "                                                     0.9348979591836735,\n",
       "                                                     0.936734693877551,\n",
       "                                                     0.9385714285714286,\n",
       "                                                     0.9404081632653062,\n",
       "                                                     0.9422448979591838,\n",
       "                                                     0.9440816326530613,\n",
       "                                                     0.9459183673469389,\n",
       "                                                     0.9477551020408163,\n",
       "                                                     0.9495918367346938,\n",
       "                                                     0.9514285714285714,\n",
       "                                                     0.953265306122449, ...]},\n",
       "                   scoring=&#x27;neg_mean_squared_error&#x27;, verbose=1)</pre><b>In a Jupyter environment, please rerun this cell to show the HTML representation or trust the notebook. <br />On GitHub, the HTML representation is unable to render, please try loading this page with nbviewer.org.</b></div><div class=\"sk-container\" hidden><div class=\"sk-item sk-dashed-wrapped\"><div class=\"sk-label-container\"><div class=\"sk-label sk-toggleable\"><input class=\"sk-toggleable__control sk-hidden--visually\" id=\"sk-estimator-id-4\" type=\"checkbox\" ><label for=\"sk-estimator-id-4\" class=\"sk-toggleable__label sk-toggleable__label-arrow\">RandomizedSearchCV</label><div class=\"sk-toggleable__content\"><pre>RandomizedSearchCV(cv=10, estimator=ElasticNet(max_iter=100000), n_iter=1000,\n",
       "                   n_jobs=8,\n",
       "                   param_distributions={&#x27;alpha&#x27;: [5.0, 5.204081632653061,\n",
       "                                                  5.408163265306122,\n",
       "                                                  5.612244897959184,\n",
       "                                                  5.816326530612245,\n",
       "                                                  6.020408163265306,\n",
       "                                                  6.224489795918368,\n",
       "                                                  6.428571428571429,\n",
       "                                                  6.63265306122449,\n",
       "                                                  6.836734693877551,\n",
       "                                                  7.040816326530612,\n",
       "                                                  7.244897959183674,\n",
       "                                                  7.448979591836735,\n",
       "                                                  7.653061224489796...\n",
       "                                                     0.9257142857142857,\n",
       "                                                     0.9275510204081633,\n",
       "                                                     0.9293877551020409,\n",
       "                                                     0.9312244897959183,\n",
       "                                                     0.9330612244897959,\n",
       "                                                     0.9348979591836735,\n",
       "                                                     0.936734693877551,\n",
       "                                                     0.9385714285714286,\n",
       "                                                     0.9404081632653062,\n",
       "                                                     0.9422448979591838,\n",
       "                                                     0.9440816326530613,\n",
       "                                                     0.9459183673469389,\n",
       "                                                     0.9477551020408163,\n",
       "                                                     0.9495918367346938,\n",
       "                                                     0.9514285714285714,\n",
       "                                                     0.953265306122449, ...]},\n",
       "                   scoring=&#x27;neg_mean_squared_error&#x27;, verbose=1)</pre></div></div></div><div class=\"sk-parallel\"><div class=\"sk-parallel-item\"><div class=\"sk-item\"><div class=\"sk-label-container\"><div class=\"sk-label sk-toggleable\"><input class=\"sk-toggleable__control sk-hidden--visually\" id=\"sk-estimator-id-5\" type=\"checkbox\" ><label for=\"sk-estimator-id-5\" class=\"sk-toggleable__label sk-toggleable__label-arrow\">estimator: ElasticNet</label><div class=\"sk-toggleable__content\"><pre>ElasticNet(max_iter=100000)</pre></div></div></div><div class=\"sk-serial\"><div class=\"sk-item\"><div class=\"sk-estimator sk-toggleable\"><input class=\"sk-toggleable__control sk-hidden--visually\" id=\"sk-estimator-id-6\" type=\"checkbox\" ><label for=\"sk-estimator-id-6\" class=\"sk-toggleable__label sk-toggleable__label-arrow\">ElasticNet</label><div class=\"sk-toggleable__content\"><pre>ElasticNet(max_iter=100000)</pre></div></div></div></div></div></div></div></div></div></div>"
      ],
      "text/plain": [
       "RandomizedSearchCV(cv=10, estimator=ElasticNet(max_iter=100000), n_iter=1000,\n",
       "                   n_jobs=8,\n",
       "                   param_distributions={'alpha': [5.0, 5.204081632653061,\n",
       "                                                  5.408163265306122,\n",
       "                                                  5.612244897959184,\n",
       "                                                  5.816326530612245,\n",
       "                                                  6.020408163265306,\n",
       "                                                  6.224489795918368,\n",
       "                                                  6.428571428571429,\n",
       "                                                  6.63265306122449,\n",
       "                                                  6.836734693877551,\n",
       "                                                  7.040816326530612,\n",
       "                                                  7.244897959183674,\n",
       "                                                  7.448979591836735,\n",
       "                                                  7.653061224489796...\n",
       "                                                     0.9257142857142857,\n",
       "                                                     0.9275510204081633,\n",
       "                                                     0.9293877551020409,\n",
       "                                                     0.9312244897959183,\n",
       "                                                     0.9330612244897959,\n",
       "                                                     0.9348979591836735,\n",
       "                                                     0.936734693877551,\n",
       "                                                     0.9385714285714286,\n",
       "                                                     0.9404081632653062,\n",
       "                                                     0.9422448979591838,\n",
       "                                                     0.9440816326530613,\n",
       "                                                     0.9459183673469389,\n",
       "                                                     0.9477551020408163,\n",
       "                                                     0.9495918367346938,\n",
       "                                                     0.9514285714285714,\n",
       "                                                     0.953265306122449, ...]},\n",
       "                   scoring='neg_mean_squared_error', verbose=1)"
      ]
     },
     "execution_count": 12,
     "metadata": {},
     "output_type": "execute_result"
    }
   ],
   "source": [
    "grid_model.fit(X_train, y_train)"
   ]
  },
  {
   "cell_type": "code",
   "execution_count": 13,
   "id": "fd4b9982",
   "metadata": {},
   "outputs": [
    {
     "data": {
      "text/html": [
       "<style>#sk-container-id-3 {color: black;background-color: white;}#sk-container-id-3 pre{padding: 0;}#sk-container-id-3 div.sk-toggleable {background-color: white;}#sk-container-id-3 label.sk-toggleable__label {cursor: pointer;display: block;width: 100%;margin-bottom: 0;padding: 0.3em;box-sizing: border-box;text-align: center;}#sk-container-id-3 label.sk-toggleable__label-arrow:before {content: \"▸\";float: left;margin-right: 0.25em;color: #696969;}#sk-container-id-3 label.sk-toggleable__label-arrow:hover:before {color: black;}#sk-container-id-3 div.sk-estimator:hover label.sk-toggleable__label-arrow:before {color: black;}#sk-container-id-3 div.sk-toggleable__content {max-height: 0;max-width: 0;overflow: hidden;text-align: left;background-color: #f0f8ff;}#sk-container-id-3 div.sk-toggleable__content pre {margin: 0.2em;color: black;border-radius: 0.25em;background-color: #f0f8ff;}#sk-container-id-3 input.sk-toggleable__control:checked~div.sk-toggleable__content {max-height: 200px;max-width: 100%;overflow: auto;}#sk-container-id-3 input.sk-toggleable__control:checked~label.sk-toggleable__label-arrow:before {content: \"▾\";}#sk-container-id-3 div.sk-estimator input.sk-toggleable__control:checked~label.sk-toggleable__label {background-color: #d4ebff;}#sk-container-id-3 div.sk-label input.sk-toggleable__control:checked~label.sk-toggleable__label {background-color: #d4ebff;}#sk-container-id-3 input.sk-hidden--visually {border: 0;clip: rect(1px 1px 1px 1px);clip: rect(1px, 1px, 1px, 1px);height: 1px;margin: -1px;overflow: hidden;padding: 0;position: absolute;width: 1px;}#sk-container-id-3 div.sk-estimator {font-family: monospace;background-color: #f0f8ff;border: 1px dotted black;border-radius: 0.25em;box-sizing: border-box;margin-bottom: 0.5em;}#sk-container-id-3 div.sk-estimator:hover {background-color: #d4ebff;}#sk-container-id-3 div.sk-parallel-item::after {content: \"\";width: 100%;border-bottom: 1px solid gray;flex-grow: 1;}#sk-container-id-3 div.sk-label:hover label.sk-toggleable__label {background-color: #d4ebff;}#sk-container-id-3 div.sk-serial::before {content: \"\";position: absolute;border-left: 1px solid gray;box-sizing: border-box;top: 0;bottom: 0;left: 50%;z-index: 0;}#sk-container-id-3 div.sk-serial {display: flex;flex-direction: column;align-items: center;background-color: white;padding-right: 0.2em;padding-left: 0.2em;position: relative;}#sk-container-id-3 div.sk-item {position: relative;z-index: 1;}#sk-container-id-3 div.sk-parallel {display: flex;align-items: stretch;justify-content: center;background-color: white;position: relative;}#sk-container-id-3 div.sk-item::before, #sk-container-id-3 div.sk-parallel-item::before {content: \"\";position: absolute;border-left: 1px solid gray;box-sizing: border-box;top: 0;bottom: 0;left: 50%;z-index: -1;}#sk-container-id-3 div.sk-parallel-item {display: flex;flex-direction: column;z-index: 1;position: relative;background-color: white;}#sk-container-id-3 div.sk-parallel-item:first-child::after {align-self: flex-end;width: 50%;}#sk-container-id-3 div.sk-parallel-item:last-child::after {align-self: flex-start;width: 50%;}#sk-container-id-3 div.sk-parallel-item:only-child::after {width: 0;}#sk-container-id-3 div.sk-dashed-wrapped {border: 1px dashed gray;margin: 0 0.4em 0.5em 0.4em;box-sizing: border-box;padding-bottom: 0.4em;background-color: white;}#sk-container-id-3 div.sk-label label {font-family: monospace;font-weight: bold;display: inline-block;line-height: 1.2em;}#sk-container-id-3 div.sk-label-container {text-align: center;}#sk-container-id-3 div.sk-container {/* jupyter's `normalize.less` sets `[hidden] { display: none; }` but bootstrap.min.css set `[hidden] { display: none !important; }` so we also need the `!important` here to be able to override the default hidden behavior on the sphinx rendered scikit-learn.org. See: https://github.com/scikit-learn/scikit-learn/issues/21755 */display: inline-block !important;position: relative;}#sk-container-id-3 div.sk-text-repr-fallback {display: none;}</style><div id=\"sk-container-id-3\" class=\"sk-top-container\"><div class=\"sk-text-repr-fallback\"><pre>ElasticNet(alpha=8.673469387755102, l1_ratio=0.99, max_iter=100000)</pre><b>In a Jupyter environment, please rerun this cell to show the HTML representation or trust the notebook. <br />On GitHub, the HTML representation is unable to render, please try loading this page with nbviewer.org.</b></div><div class=\"sk-container\" hidden><div class=\"sk-item\"><div class=\"sk-estimator sk-toggleable\"><input class=\"sk-toggleable__control sk-hidden--visually\" id=\"sk-estimator-id-7\" type=\"checkbox\" checked><label for=\"sk-estimator-id-7\" class=\"sk-toggleable__label sk-toggleable__label-arrow\">ElasticNet</label><div class=\"sk-toggleable__content\"><pre>ElasticNet(alpha=8.673469387755102, l1_ratio=0.99, max_iter=100000)</pre></div></div></div></div></div>"
      ],
      "text/plain": [
       "ElasticNet(alpha=8.673469387755102, l1_ratio=0.99, max_iter=100000)"
      ]
     },
     "execution_count": 13,
     "metadata": {},
     "output_type": "execute_result"
    }
   ],
   "source": [
    "grid_model.best_estimator_"
   ]
  },
  {
   "cell_type": "code",
   "execution_count": 14,
   "id": "613b89ab",
   "metadata": {},
   "outputs": [
    {
     "data": {
      "text/plain": [
       "21351.600574960707"
      ]
     },
     "execution_count": 14,
     "metadata": {},
     "output_type": "execute_result"
    }
   ],
   "source": [
    "# Look at the mean squared error\n",
    "\n",
    "from sklearn.metrics import mean_squared_error\n",
    "y_pred_grid = grid_model.predict(X_test)\n",
    "\n",
    "np.sqrt(mean_squared_error(y_test, y_pred_grid))"
   ]
  },
  {
   "cell_type": "code",
   "execution_count": 15,
   "id": "027dae04",
   "metadata": {},
   "outputs": [
    {
     "data": {
      "text/plain": [
       "353     11213.494297\n",
       "864     -4343.543669\n",
       "1311    -6089.349286\n",
       "192    -12034.100972\n",
       "782    -14621.038547\n",
       "            ...     \n",
       "1001   -40777.399821\n",
       "610    -12350.685691\n",
       "188     -5052.613586\n",
       "289     29472.122817\n",
       "890     16314.962990\n",
       "Name: SalePrice, Length: 282, dtype: float64"
      ]
     },
     "execution_count": 15,
     "metadata": {},
     "output_type": "execute_result"
    }
   ],
   "source": [
    "# Check residuals after test, they should be distributed across zero\n",
    "\n",
    "residuals = y_pred_grid - y_test\n",
    "residuals"
   ]
  },
  {
   "cell_type": "code",
   "execution_count": 16,
   "id": "93dc816e",
   "metadata": {},
   "outputs": [
    {
     "data": {
      "text/plain": [
       "<matplotlib.lines.Line2D at 0x1747a8d60>"
      ]
     },
     "execution_count": 16,
     "metadata": {},
     "output_type": "execute_result"
    },
    {
     "data": {
      "image/png": "[encoded data removed]",
      "text/plain": [
       "<Figure size 432x288 with 1 Axes>"
      ]
     },
     "metadata": {
      "needs_background": "light"
     },
     "output_type": "display_data"
    }
   ],
   "source": [
    "sns.scatterplot(x=y_test, y=residuals)\n",
    "plt.axhline(y=0, color='r', ls='--')"
   ]
  },
  {
   "cell_type": "code",
   "execution_count": 17,
   "id": "068088eb",
   "metadata": {},
   "outputs": [
    {
     "data": {
      "text/plain": [
       "<seaborn.axisgrid.FacetGrid at 0x17487f4c0>"
      ]
     },
     "execution_count": 17,
     "metadata": {},
     "output_type": "execute_result"
    },
    {
     "data": {
      "image/png": "[encoded data removed]",
      "text/plain": [
       "<Figure size 360x360 with 1 Axes>"
      ]
     },
     "metadata": {
      "needs_background": "light"
     },
     "output_type": "display_data"
    }
   ],
   "source": [
    "# If linear regression is working fine, we should get a normal distribution\n",
    "\n",
    "sns.displot(residuals, bins=20, kde=True)"
   ]
  },
  {
   "cell_type": "code",
   "execution_count": 18,
   "id": "ffe90267",
   "metadata": {},
   "outputs": [
    {
     "data": {
      "image/png": "[encoded data removed]",
      "text/plain": [
       "<Figure size 400x400 with 1 Axes>"
      ]
     },
     "metadata": {
      "needs_background": "light"
     },
     "output_type": "display_data"
    }
   ],
   "source": [
    "import scipy as sp\n",
    "\n",
    "fig, ax = plt.subplots(figsize=(4,4), dpi=100)\n",
    "_ = sp.stats.probplot(residuals, plot=ax)"
   ]
  },
  {
   "cell_type": "code",
   "execution_count": 19,
   "id": "08cc6ae2",
   "metadata": {},
   "outputs": [
    {
     "data": {
      "text/html": [
       "<style>#sk-container-id-4 {color: black;background-color: white;}#sk-container-id-4 pre{padding: 0;}#sk-container-id-4 div.sk-toggleable {background-color: white;}#sk-container-id-4 label.sk-toggleable__label {cursor: pointer;display: block;width: 100%;margin-bottom: 0;padding: 0.3em;box-sizing: border-box;text-align: center;}#sk-container-id-4 label.sk-toggleable__label-arrow:before {content: \"▸\";float: left;margin-right: 0.25em;color: #696969;}#sk-container-id-4 label.sk-toggleable__label-arrow:hover:before {color: black;}#sk-container-id-4 div.sk-estimator:hover label.sk-toggleable__label-arrow:before {color: black;}#sk-container-id-4 div.sk-toggleable__content {max-height: 0;max-width: 0;overflow: hidden;text-align: left;background-color: #f0f8ff;}#sk-container-id-4 div.sk-toggleable__content pre {margin: 0.2em;color: black;border-radius: 0.25em;background-color: #f0f8ff;}#sk-container-id-4 input.sk-toggleable__control:checked~div.sk-toggleable__content {max-height: 200px;max-width: 100%;overflow: auto;}#sk-container-id-4 input.sk-toggleable__control:checked~label.sk-toggleable__label-arrow:before {content: \"▾\";}#sk-container-id-4 div.sk-estimator input.sk-toggleable__control:checked~label.sk-toggleable__label {background-color: #d4ebff;}#sk-container-id-4 div.sk-label input.sk-toggleable__control:checked~label.sk-toggleable__label {background-color: #d4ebff;}#sk-container-id-4 input.sk-hidden--visually {border: 0;clip: rect(1px 1px 1px 1px);clip: rect(1px, 1px, 1px, 1px);height: 1px;margin: -1px;overflow: hidden;padding: 0;position: absolute;width: 1px;}#sk-container-id-4 div.sk-estimator {font-family: monospace;background-color: #f0f8ff;border: 1px dotted black;border-radius: 0.25em;box-sizing: border-box;margin-bottom: 0.5em;}#sk-container-id-4 div.sk-estimator:hover {background-color: #d4ebff;}#sk-container-id-4 div.sk-parallel-item::after {content: \"\";width: 100%;border-bottom: 1px solid gray;flex-grow: 1;}#sk-container-id-4 div.sk-label:hover label.sk-toggleable__label {background-color: #d4ebff;}#sk-container-id-4 div.sk-serial::before {content: \"\";position: absolute;border-left: 1px solid gray;box-sizing: border-box;top: 0;bottom: 0;left: 50%;z-index: 0;}#sk-container-id-4 div.sk-serial {display: flex;flex-direction: column;align-items: center;background-color: white;padding-right: 0.2em;padding-left: 0.2em;position: relative;}#sk-container-id-4 div.sk-item {position: relative;z-index: 1;}#sk-container-id-4 div.sk-parallel {display: flex;align-items: stretch;justify-content: center;background-color: white;position: relative;}#sk-container-id-4 div.sk-item::before, #sk-container-id-4 div.sk-parallel-item::before {content: \"\";position: absolute;border-left: 1px solid gray;box-sizing: border-box;top: 0;bottom: 0;left: 50%;z-index: -1;}#sk-container-id-4 div.sk-parallel-item {display: flex;flex-direction: column;z-index: 1;position: relative;background-color: white;}#sk-container-id-4 div.sk-parallel-item:first-child::after {align-self: flex-end;width: 50%;}#sk-container-id-4 div.sk-parallel-item:last-child::after {align-self: flex-start;width: 50%;}#sk-container-id-4 div.sk-parallel-item:only-child::after {width: 0;}#sk-container-id-4 div.sk-dashed-wrapped {border: 1px dashed gray;margin: 0 0.4em 0.5em 0.4em;box-sizing: border-box;padding-bottom: 0.4em;background-color: white;}#sk-container-id-4 div.sk-label label {font-family: monospace;font-weight: bold;display: inline-block;line-height: 1.2em;}#sk-container-id-4 div.sk-label-container {text-align: center;}#sk-container-id-4 div.sk-container {/* jupyter's `normalize.less` sets `[hidden] { display: none; }` but bootstrap.min.css set `[hidden] { display: none !important; }` so we also need the `!important` here to be able to override the default hidden behavior on the sphinx rendered scikit-learn.org. See: https://github.com/scikit-learn/scikit-learn/issues/21755 */display: inline-block !important;position: relative;}#sk-container-id-4 div.sk-text-repr-fallback {display: none;}</style><div id=\"sk-container-id-4\" class=\"sk-top-container\"><div class=\"sk-text-repr-fallback\"><pre>ElasticNet(alpha=8.46, l1_ratio=0.99, max_iter=100000)</pre><b>In a Jupyter environment, please rerun this cell to show the HTML representation or trust the notebook. <br />On GitHub, the HTML representation is unable to render, please try loading this page with nbviewer.org.</b></div><div class=\"sk-container\" hidden><div class=\"sk-item\"><div class=\"sk-estimator sk-toggleable\"><input class=\"sk-toggleable__control sk-hidden--visually\" id=\"sk-estimator-id-8\" type=\"checkbox\" checked><label for=\"sk-estimator-id-8\" class=\"sk-toggleable__label sk-toggleable__label-arrow\">ElasticNet</label><div class=\"sk-toggleable__content\"><pre>ElasticNet(alpha=8.46, l1_ratio=0.99, max_iter=100000)</pre></div></div></div></div></div>"
      ],
      "text/plain": [
       "ElasticNet(alpha=8.46, l1_ratio=0.99, max_iter=100000)"
      ]
     },
     "execution_count": 19,
     "metadata": {},
     "output_type": "execute_result"
    }
   ],
   "source": [
    "# Our best model is ElasticNet with alpha=8.46 and l1_ratio=0.99\n",
    "# Build final model and test it\n",
    "\n",
    "final_model = ElasticNet(alpha=8.46, l1_ratio=0.99, max_iter=100000)\n",
    "scaler = StandardScaler()\n",
    "scaler.fit(X)\n",
    "X = scaler.transform(X)\n",
    "\n",
    "final_model.fit(X, y)"
   ]
  },
  {
   "cell_type": "code",
   "execution_count": 20,
   "id": "6c542aa5",
   "metadata": {},
   "outputs": [],
   "source": [
    "# Dump final model for next step\n",
    "\n",
    "import pickle\n",
    "\n",
    "pickle.dump(final_model, open('model/final_model.ml', 'wb'))"
   ]
  }
 ],
 "metadata": {
  "kernelspec": {
   "display_name": "Python 3 (ipykernel)",
   "language": "python",
   "name": "python3"
  },
  "language_info": {
   "codemirror_mode": {
    "name": "ipython",
    "version": 3
   },
   "file_extension": ".py",
   "mimetype": "text/x-python",
   "name": "python",
   "nbconvert_exporter": "python",
   "pygments_lexer": "ipython3",
   "version": "3.9.7"
  }
 },
 "nbformat": 4,
 "nbformat_minor": 5
}
